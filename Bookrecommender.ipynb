{
 "cells": [
  {
   "cell_type": "code",
   "execution_count": 1,
   "id": "ff18406a-b666-4b38-adf3-65e9d01e1a6c",
   "metadata": {},
   "outputs": [
    {
     "name": "stdout",
     "output_type": "stream",
     "text": [
      "Books shape: (271379, 5)\n",
      "Ratings shape: (1149780, 3)\n",
      "Filtered Ratings shape: (48139, 3)\n",
      "User-Item Matrix shape: (3060, 306)\n",
      "\n",
      "Recommendations for User 243:\n",
      "            ISBN                                              Title\n",
      "356   0142001740                            The Secret Life of Bees\n",
      "456   044021145X                                           The Firm\n",
      "563   0156027321                                         Life of Pi\n",
      "706   0446672211  Where the Heart Is (Oprah's Book Club (Paperba...\n",
      "1922  067976402X                             Snow Falling on Cedars\n"
     ]
    }
   ],
   "source": [
    "import pandas as pd\n",
    "import numpy as np\n",
    "from sklearn.decomposition import TruncatedSVD\n",
    "\n",
    "# Load Dataset\n",
    "books = pd.read_csv(\"Books.csv\", sep=\";\", encoding=\"latin-1\", on_bad_lines=\"skip\", low_memory=False)\n",
    "ratings = pd.read_csv(\"Ratings.csv\", sep=\";\", encoding=\"latin-1\", on_bad_lines=\"skip\", low_memory=False)\n",
    "\n",
    "# Clean column names (remove spaces)\n",
    "books.columns = books.columns.str.strip()\n",
    "ratings.columns = ratings.columns.str.strip()\n",
    "\n",
    "print(\"Books shape:\", books.shape)\n",
    "print(\"Ratings shape:\", ratings.shape)\n",
    "\n",
    "# Filter Dataset\n",
    "# Keep only users with >= 50 ratings\n",
    "active_users = ratings['User-ID'].value_counts()\n",
    "active_users = active_users[active_users >= 50].index\n",
    "ratings = ratings[ratings['User-ID'].isin(active_users)]\n",
    "\n",
    "# Keep only books with >= 100 ratings\n",
    "popular_books = ratings['ISBN'].value_counts()\n",
    "popular_books = popular_books[popular_books >= 100].index\n",
    "ratings = ratings[ratings['ISBN'].isin(popular_books)]\n",
    "\n",
    "print(\"Filtered Ratings shape:\", ratings.shape)\n",
    "\n",
    "# Create User-Item Matrix\n",
    "user_item_matrix = ratings.pivot_table(\n",
    "    index='User-ID',\n",
    "    columns='ISBN',\n",
    "    values='Rating'\n",
    ").fillna(0)\n",
    "\n",
    "print(\"User-Item Matrix shape:\", user_item_matrix.shape)\n",
    "\n",
    "# Matrix Factorization (SVD)\n",
    "svd = TruncatedSVD(n_components=20, random_state=42)\n",
    "matrix = svd.fit_transform(user_item_matrix)\n",
    "\n",
    "approx_ratings = np.dot(matrix, svd.components_)\n",
    "pred_ratings = pd.DataFrame(\n",
    "    approx_ratings,\n",
    "    index=user_item_matrix.index,\n",
    "    columns=user_item_matrix.columns\n",
    ")\n",
    "\n",
    "# Recommendation Function\n",
    "def recommend_books(user_id, num_recommendations=5):\n",
    "    if user_id not in pred_ratings.index:\n",
    "        return \"User not found!\"\n",
    "    \n",
    "    # Sort predictions\n",
    "    user_ratings = pred_ratings.loc[user_id].sort_values(ascending=False)\n",
    "    \n",
    "    # Exclude books already rated\n",
    "    rated_books = ratings[ratings['User-ID'] == user_id]['ISBN'].tolist()\n",
    "    recommendations = user_ratings.drop(rated_books, errors=\"ignore\").head(num_recommendations)\n",
    "    \n",
    "    # Get book titles\n",
    "    return books[books['ISBN'].isin(recommendations.index)][['ISBN','Title']]\n",
    "\n",
    "sample_user = user_item_matrix.index[0]  # pick first user from filtered dataset\n",
    "print(f\"\\nRecommendations for User {sample_user}:\")\n",
    "print(recommend_books(user_id=sample_user, num_recommendations=5))\n"
   ]
  },
  {
   "cell_type": "code",
   "execution_count": null,
   "id": "b6adee94-fd30-4981-8264-f4502e217f47",
   "metadata": {},
   "outputs": [],
   "source": []
  }
 ],
 "metadata": {
  "kernelspec": {
   "display_name": "Python 3 (ipykernel)",
   "language": "python",
   "name": "python3"
  },
  "language_info": {
   "codemirror_mode": {
    "name": "ipython",
    "version": 3
   },
   "file_extension": ".py",
   "mimetype": "text/x-python",
   "name": "python",
   "nbconvert_exporter": "python",
   "pygments_lexer": "ipython3",
   "version": "3.13.5"
  }
 },
 "nbformat": 4,
 "nbformat_minor": 5
}
